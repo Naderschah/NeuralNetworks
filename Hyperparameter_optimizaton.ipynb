{
 "metadata": {
  "language_info": {
   "codemirror_mode": {
    "name": "ipython",
    "version": 3
   },
   "file_extension": ".py",
   "mimetype": "text/x-python",
   "name": "python",
   "nbconvert_exporter": "python",
   "pygments_lexer": "ipython3",
   "version": "3.8.8"
  },
  "orig_nbformat": 4,
  "kernelspec": {
   "name": "python3",
   "display_name": "Python 3.8.8 64-bit ('base': conda)"
  },
  "interpreter": {
   "hash": "64ad0ea8d629f00d8168fc91b44a5de2d94c414bf842e4bc86698867624ffac1"
  }
 },
 "nbformat": 4,
 "nbformat_minor": 2,
 "cells": [
  {
   "cell_type": "code",
   "execution_count": 1,
   "source": [
    "import numpy as np"
   ],
   "outputs": [],
   "metadata": {}
  },
  {
   "cell_type": "code",
   "execution_count": 2,
   "source": [
    "x_train_under = np.genfromtxt('/home/felix/MLP_stockdata/x_train_under.csv', delimiter=',')#[:700000]\n",
    "x_train_under"
   ],
   "outputs": [
    {
     "output_type": "execute_result",
     "data": {
      "text/plain": [
       "array([[ -0.28379452,  24.01615179,  22.54875898, -96.12402931,\n",
       "         95.        ,   1.        ],\n",
       "       [ -0.17073526,  54.82173743,  67.32562561, -35.92450145,\n",
       "         72.        ,   5.        ],\n",
       "       [ -0.68373266,  20.60103063,  30.12407281, -99.07576426,\n",
       "         23.        ,   3.        ],\n",
       "       ...,\n",
       "       [  1.91839487,  78.05434007,  70.57764592,  -5.49745011,\n",
       "          0.        ,   0.        ],\n",
       "       [  0.46810469,  53.35587498,  52.4064263 , -44.28863592,\n",
       "          0.        ,   0.        ],\n",
       "       [  2.08588442,  59.96073236,  61.21508436, -38.60764443,\n",
       "         24.        ,   1.        ]])"
      ]
     },
     "metadata": {},
     "execution_count": 2
    }
   ],
   "metadata": {}
  },
  {
   "cell_type": "code",
   "execution_count": 3,
   "source": [
    "from Raw_Data import normalize\n",
    "(x_train_under, constants) = normalize(x_train_under)"
   ],
   "outputs": [
    {
     "output_type": "stream",
     "name": "stdout",
     "text": [
      "(687861, 6)\n",
      "(6, 687861)\n",
      "Creating normalization\n"
     ]
    }
   ],
   "metadata": {}
  },
  {
   "cell_type": "code",
   "execution_count": 4,
   "source": [
    "x_train_under"
   ],
   "outputs": [
    {
     "output_type": "execute_result",
     "data": {
      "text/plain": [
       "array([[0.70410942, 0.24015242, 0.22548759, 0.40775261, 0.84821429,\n",
       "        0.09090909],\n",
       "       [0.70429816, 0.54822156, 0.67325626, 0.52815567, 0.64285714,\n",
       "        0.45454545],\n",
       "       [0.70344179, 0.20599974, 0.30124073, 0.40184894, 0.20535714,\n",
       "        0.27272727],\n",
       "       ...,\n",
       "       [0.70778564, 0.78055761, 0.70577646, 0.5890118 , 0.        ,\n",
       "        0.        ],\n",
       "       [0.7053646 , 0.53356231, 0.52406426, 0.51142685, 0.        ,\n",
       "        0.        ],\n",
       "       [0.70806524, 0.59961373, 0.61215084, 0.52278921, 0.21428571,\n",
       "        0.09090909]])"
      ]
     },
     "metadata": {},
     "execution_count": 4
    }
   ],
   "metadata": {}
  },
  {
   "cell_type": "code",
   "execution_count": 5,
   "source": [
    "print(constants)"
   ],
   "outputs": [
    {
     "output_type": "stream",
     "name": "stdout",
     "text": [
      "[(-422.07127100656044, 176.9655583870849), (0.0019453095169268408, 99.99763262417365), (0.0, 100.0), (-299.99354928696204, 199.9898124510716), (0.0, 112.0), (0.0, 11.0)]\n"
     ]
    }
   ],
   "metadata": {}
  },
  {
   "cell_type": "code",
   "execution_count": null,
   "source": [],
   "outputs": [],
   "metadata": {}
  }
 ]
}